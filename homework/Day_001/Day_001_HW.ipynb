{
 "cells": [
  {
   "cell_type": "markdown",
   "metadata": {},
   "source": [
    "## 練習時間\n",
    "#### 請寫一個函式用來計算 Mean Square Error\n",
    "$ MSE = \\frac{1}{n}\\sum_{i=1}^{n}{(Y_i - \\hat{Y}_i)^2} $\n",
    "\n",
    "### Hint: [如何取平方](https://googoodesign.gitbooks.io/-ezpython/unit-1.html)"
   ]
  },
  {
   "cell_type": "markdown",
   "metadata": {},
   "source": [
    "# [作業目標]\n",
    "- 仿造範例的MAE函數, 自己寫一個MSE函數(參考上面公式)"
   ]
  },
  {
   "cell_type": "markdown",
   "metadata": {},
   "source": [
    "# [作業重點]\n",
    "- 注意程式的縮排\n",
    "- 是否能將數學公式, 轉換為 Python 的函式組合? (In[2], Out[2])"
   ]
  },
  {
   "cell_type": "code",
   "execution_count": 1,
   "metadata": {},
   "outputs": [],
   "source": [
    "# 載入基礎套件與代稱\n",
    "import numpy as np\n",
    "import matplotlib.pyplot as plt"
   ]
  },
  {
   "cell_type": "code",
   "execution_count": 3,
   "metadata": {},
   "outputs": [],
   "source": [
    "def mean_absolute_error(y, yp):\n",
    "    \"\"\"\n",
    "    計算 MAE\n",
    "    Args:\n",
    "        - y: 實際值\n",
    "        - yp: 預測值\n",
    "    Return:\n",
    "        - mae: MAE\n",
    "    \"\"\"\n",
    "    mae = MAE = sum(abs(y - yp)) / len(y)\n",
    "    return mae\n",
    "\n",
    "# 定義 mean_squared_error 這個函數, 計算並傳回 MSE\n",
    "def mean_squared_error(y, yp):\n",
    "    \"\"\"\n",
    "    請完成這個 Function 後往下執行\n",
    "    \"\"\"\n",
    "    mse = MSE = sum((y - yp)**2) / len(y)\n",
    "    return mse"
   ]
  },
  {
   "cell_type": "code",
   "execution_count": 4,
   "metadata": {},
   "outputs": [
    {
     "data": {
      "image/png": "[encoded data removed]",
      "text/plain": [
       "<Figure size 432x288 with 1 Axes>"
      ]
     },
     "metadata": {
      "needs_background": "light"
     },
     "output_type": "display_data"
    }
   ],
   "source": [
    "# 與範例相同, 不另外解說\n",
    "w = 3\n",
    "b = 0.5\n",
    "x_lin = np.linspace(0, 100, 101)\n",
    "y = (x_lin + np.random.randn(101) * 5) * w + b\n",
    "\n",
    "plt.plot(x_lin, y, 'b.', label = 'data points')\n",
    "plt.title(\"Assume we have data points\")\n",
    "plt.legend(loc = 2)\n",
    "plt.show()"
   ]
  },
  {
   "cell_type": "code",
   "execution_count": 5,
   "metadata": {},
   "outputs": [
    {
     "data": {
      "image/png": "[encoded data removed]",
      "text/plain": [
       "<Figure size 432x288 with 1 Axes>"
      ]
     },
     "metadata": {
      "needs_background": "light"
     },
     "output_type": "display_data"
    }
   ],
   "source": [
    "# 與範例相同, 不另外解說\n",
    "y_hat = x_lin * w + b\n",
    "plt.plot(x_lin, y, 'b.', label = 'data')\n",
    "plt.plot(x_lin, y_hat, 'r-', label = 'prediction')\n",
    "plt.title(\"Assume we have data points (And the prediction)\")\n",
    "plt.legend(loc = 2)\n",
    "plt.show()"
   ]
  },
  {
   "cell_type": "code",
   "execution_count": 7,
   "metadata": {},
   "outputs": [
    {
     "name": "stdout",
     "output_type": "stream",
     "text": [
      "The Mean squared error is 245.352\n",
      "The Mean absolute error is 12.873\n"
     ]
    }
   ],
   "source": [
    "# 執行 Function, 確認有沒有正常執行\n",
    "MSE = mean_squared_error(y, y_hat)\n",
    "MAE = mean_absolute_error(y, y_hat)\n",
    "print(\"The Mean squared error is %.3f\" % (MSE))\n",
    "print(\"The Mean absolute error is %.3f\" % (MAE))"
   ]
  },
  {
   "cell_type": "markdown",
   "metadata": {},
   "source": [
    "# [作業2]\n",
    "\n",
    "請上 Kaggle, 在 Competitions 或 Dataset 中找一組競賽或資料並寫下：\n",
    "\n",
    "1. 你選的這組資料為何重要\n",
    "\n",
    "2. 資料從何而來 (tips: 譬如提供者是誰、以什麼方式蒐集)\n",
    "\n",
    "3. 蒐集而來的資料型態為何\n",
    "\n",
    "4. 這組資料想解決的問題如何評估\n",
    "\n",
    "# [作業3]\n",
    "\n",
    "想像你經營一個自由載客車隊，你希望能透過數據分析以提升業績，請你思考並描述你如何規劃整體的分析/解決方案：\n",
    "\n",
    "1. 核心問題為何 (tips：如何定義 「提升業績 & 你的假設」)\n",
    "\n",
    "2. 資料從何而來 (tips：哪些資料可能會對你想問的問題產生影響 & 資料如何蒐集)\n",
    "\n",
    "3. 蒐集而來的資料型態為何\n",
    "\n",
    "4. 你要回答的問題，其如何評估 (tips：你的假設如何驗證)"
   ]
  },
  {
   "cell_type": "code",
   "execution_count": null,
   "metadata": {},
   "outputs": [],
   "source": [
    "# [作業2]\n",
    "# Predict Future Sales\n",
    "# 1.你選的這組資料為何重要\n",
    "# 說明：可預測下個月每個產品和商店的總銷售額，在下個月也能夠根據預測結果來進行推銷\n",
    "#       如尿布與啤酒有正向關聯性，則能夠將此兩項商品放在同一區域進行銷售或是兩者同\n",
    "#       時購買時有促銷方案，以提升銷售額。\n",
    "        \n",
    "# 2.資料從何而來 (tips: 譬如提供者是誰、以什麼方式蒐集)\n",
    "# 由1C Company提供、購物車紀錄\n",
    "\n",
    "# 3.蒐集而來的資料型態為何\n",
    "# 皆屬於結構化資料\n",
    "# ---資料集---\n",
    "# sales_train.csv - 訓練集，為2013年1月至2015年10月的每日曆史數據。\n",
    "# test.csv - 測試集。需要預測的商店和產品在2015年11月的銷售額。\n",
    "# sample_submission.csv - 銷售的產品數量。預測的每月銷售金額使用。\n",
    "# items.csv - 產品與其類別相關信息。(編號、產品名稱與產品類別對照表)\n",
    "# item_categories.csv  - 產品的相關訊息(編號與產品名稱對照表)\n",
    "# shops.csv- 商店的相關信息。(店商名稱與編號對照表)\n",
    "# ---資料欄位---\n",
    "# ID - 於測試集的商店id與商品id\n",
    "# shop_id - 商店id\n",
    "# item_id - 商品id\n",
    "# item_category_id - 類別id\n",
    "# item_cnt_day - 產品銷售數量\n",
    "# item_price - 產品價格\n",
    "# date - 日期，格式為dd/mm/yyyy\n",
    "# date_block_num - 連續月份號，如2013年1月為0，2013年2月為1，...，2015年10月為33\n",
    "# item_name - 商品名稱\n",
    "# shop_name - 商店名稱\n",
    "# item_category_name - 商品的類別名稱\n",
    "\n",
    "# 4.這組資料想解決的問題如何評估\n",
    "# 店家的廣告投放->不同時間點的購買客群預測->AUC、MAP\n",
    "# 預測下個月每個產品和商店的總銷售額->迴歸 (Mean Squared Error, MSE)\n"
   ]
  },
  {
   "cell_type": "code",
   "execution_count": null,
   "metadata": {},
   "outputs": [],
   "source": [
    "# [作業3]\n",
    "# 想像你經營一個自由載客車隊，你希望能透過數據分析以提升業績，請你思考並描述你如何規劃整體的分析/解決方案：\n",
    "# 1.核心問題為何 (tips：如何定義 「提升業績 & 你的假設」)\n",
    "# 以現有及以往歷史的數據彙整出來分析，並分析當天的時空背景以及爬取社群媒體評論分析，來做到是否有提升業績\n",
    "\n",
    "# 2.資料從何而來 (tips：哪些資料可能會對你想問的問題產生影響 & 資料如何蒐集)\n",
    "# 可從PTT、DCard...社群媒體爬取自由載客車隊相關資料，進而可知客戶對其注重那些(如司機態度、乘車品質...等)、其客戶特徵\n",
    "# ，以及企業形象之分析，並從氣象局抓取每日天氣狀況\n",
    "\n",
    "# 3.蒐集而來的資料型態為何\n",
    "# 屬於結構化資料\n",
    "# AnnouncerID - 發文者ID\n",
    "# AnnouncerData - 發文時間\n",
    "# Announcercontent - 發文文章內容\n",
    "# AnnouncerPReviews - 正面評價\n",
    "# AnnouncerNReviews - 負面評價\n",
    "# commenterID - 留言者id\n",
    "# commenterData - 留言時間\n",
    "# commentercontent - 留言文章內容\n",
    "# commenterPReviews - 留言正面評價\n",
    "# commenterNReviews - 留言負面評價\n",
    "\n",
    "# 4.你要回答的問題，其如何評估 (tips：你的假設如何驗證)\n",
    "# 預測業績->使用回歸MSE、MAE\n",
    "# 搭乘乘客客群預測->使用AUC、MAP"
   ]
  }
 ],
 "metadata": {
  "anaconda-cloud": {},
  "kernelspec": {
   "display_name": "Python 3",
   "language": "python",
   "name": "python3"
  },
  "language_info": {
   "codemirror_mode": {
    "name": "ipython",
    "version": 3
   },
   "file_extension": ".py",
   "mimetype": "text/x-python",
   "name": "python",
   "nbconvert_exporter": "python",
   "pygments_lexer": "ipython3",
   "version": "3.7.6"
  }
 },
 "nbformat": 4,
 "nbformat_minor": 1
}
